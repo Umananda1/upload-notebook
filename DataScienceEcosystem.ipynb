{
 "cells": [
  {
   "cell_type": "markdown",
   "id": "018d5e57",
   "metadata": {},
   "source": [
    "# Data Science Tools and Ecosystem"
   ]
  },
  {
   "cell_type": "markdown",
   "id": "8139f226",
   "metadata": {},
   "source": [
    " In this notebook, Data Science Tools and Ecosystem are summarized"
   ]
  },
  {
   "cell_type": "markdown",
   "id": "01c889b8",
   "metadata": {},
   "source": [
    " some of the popular language that Data Scientists use are:\n",
    " 1. Python\n",
    " 2. SQL\n",
    " 3. Java"
   ]
  },
  {
   "cell_type": "markdown",
   "id": "e0299074",
   "metadata": {},
   "source": [
    "Some of the commonly used libraries used by Data Scientists include:\n",
    "  1. NumPy\n",
    "  2. Matplotlib\n",
    "  3. Pandas"
   ]
  },
  {
   "cell_type": "markdown",
   "id": "0e698d8d",
   "metadata": {},
   "source": [
    "# Table"
   ]
  },
  {
   "cell_type": "markdown",
   "id": "1de7d143",
   "metadata": {},
   "source": [
    "|Data Science Tools||Big Data AnalyticS||Geospatial Analysis|\n",
    "|Time Series Analysis|"
   ]
  },
  {
   "cell_type": "markdown",
   "id": "4865e317",
   "metadata": {},
   "source": [
    "# Below are a few examples of evaluating arithmetic expression in Python:"
   ]
  },
  {
   "cell_type": "code",
   "execution_count": 8,
   "id": "f68e0587",
   "metadata": {},
   "outputs": [
    {
     "name": "stdout",
     "output_type": "stream",
     "text": [
      "x+y\n",
      "x-y\n",
      "x*y\n"
     ]
    }
   ],
   "source": [
    "a= (\"x+y\")\n",
    "b=(\"x-y\")\n",
    "c=(\"x*y\")\n",
    "print(a)\n",
    "print(b)\n",
    "print(c)"
   ]
  },
  {
   "cell_type": "markdown",
   "id": "4220d32c",
   "metadata": {},
   "source": [
    " This a simple arithmetic expression to mutiply then add integers"
   ]
  },
  {
   "cell_type": "code",
   "execution_count": 3,
   "id": "46de16de",
   "metadata": {},
   "outputs": [
    {
     "data": {
      "text/plain": [
       "17"
      ]
     },
     "execution_count": 3,
     "metadata": {},
     "output_type": "execute_result"
    }
   ],
   "source": [
    "(3*4)+5"
   ]
  },
  {
   "cell_type": "markdown",
   "id": "d6eca1b9",
   "metadata": {},
   "source": [
    " write an expression that converts 200 minutes into hours"
   ]
  },
  {
   "cell_type": "markdown",
   "id": "16a80ef8",
   "metadata": {},
   "source": [
    "This will convert 200 minutes to hours by diving by 60."
   ]
  },
  {
   "cell_type": "code",
   "execution_count": 6,
   "id": "f1bc88fb",
   "metadata": {},
   "outputs": [
    {
     "name": "stdout",
     "output_type": "stream",
     "text": [
      "3\n"
     ]
    }
   ],
   "source": [
    "h= 200//60\n",
    "print(h)"
   ]
  },
  {
   "cell_type": "markdown",
   "id": "9e2afee2",
   "metadata": {},
   "source": [
    "# OBJECTIVES:"
   ]
  },
  {
   "cell_type": "markdown",
   "id": "4883ab2a",
   "metadata": {},
   "source": [
    "popular language for data science\n",
    "\n",
    "- Python\n",
    "- SQL\n",
    "- Java\n",
    "- Julia\n",
    "- Swift"
   ]
  },
  {
   "cell_type": "markdown",
   "id": "62578be1",
   "metadata": {},
   "source": [
    "# Author"
   ]
  },
  {
   "cell_type": "markdown",
   "id": "70c2bc59",
   "metadata": {},
   "source": [
    "Umananda Moirangthem,\n",
    "William Shakespeare,\n",
    "Charles Dickens,\n",
    "Jane Austen,"
   ]
  },
  {
   "cell_type": "code",
   "execution_count": null,
   "id": "0abcac37",
   "metadata": {},
   "outputs": [],
   "source": []
  }
 ],
 "metadata": {
  "kernelspec": {
   "display_name": "Python 3 (ipykernel)",
   "language": "python",
   "name": "python3"
  },
  "language_info": {
   "codemirror_mode": {
    "name": "ipython",
    "version": 3
   },
   "file_extension": ".py",
   "mimetype": "text/x-python",
   "name": "python",
   "nbconvert_exporter": "python",
   "pygments_lexer": "ipython3",
   "version": "3.11.5"
  }
 },
 "nbformat": 4,
 "nbformat_minor": 5
}
